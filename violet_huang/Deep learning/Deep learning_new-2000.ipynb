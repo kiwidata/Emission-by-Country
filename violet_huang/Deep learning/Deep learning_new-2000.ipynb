{
 "cells": [
  {
   "cell_type": "code",
   "execution_count": 1,
   "id": "046ae5ce",
   "metadata": {},
   "outputs": [],
   "source": [
    "# Import our dependencies\n",
    "from sklearn.model_selection import train_test_split\n",
    "from sklearn.preprocessing import StandardScaler,OneHotEncoder\n",
    "from sklearn.metrics import mean_squared_error\n",
    "import pandas as pd\n",
    "import tensorflow as tf\n",
    "import numpy as np"
   ]
  },
  {
   "cell_type": "code",
   "execution_count": 2,
   "id": "e15a359c",
   "metadata": {},
   "outputs": [],
   "source": [
    "#  Import and read the charity_data.csv.\n",
    "application_df = pd.read_csv(\"GCB2022v27_MtCO2_flat.csv\")\n",
    "#application_df.head()"
   ]
  },
  {
   "cell_type": "code",
   "execution_count": 3,
   "id": "3168172c",
   "metadata": {
    "scrolled": true
   },
   "outputs": [
    {
     "data": {
      "text/plain": [
       "(22, 11)"
      ]
     },
     "execution_count": 3,
     "metadata": {},
     "output_type": "execute_result"
    }
   ],
   "source": [
    "# selecting 2000 data, checking the clustering data\n",
    "\n",
    "df_dl_2000 = application_df[(application_df['Year'] >= 2000) & (application_df ['Country'] == 'Global')]\n",
    "df_dl_2000.shape\n",
    "# print(df_dl_2000)\n",
    "#save every country data for 2000\n",
    "#df_deeplearining_2000.to_csv(r'C:\\Users\\Violet.Huang\\Documents\\14_Berkerly bootscamp\\Final_Project\\Group-Project\\Deep learning\\deeplearining_2000.csv')"
   ]
  },
  {
   "cell_type": "code",
   "execution_count": 4,
   "id": "d2be5637",
   "metadata": {},
   "outputs": [
    {
     "name": "stdout",
     "output_type": "stream",
     "text": [
      "             Total          Coal          Oil          Gas\n",
      "63082  25453.62214   9203.117603  10302.09059  4731.291034\n",
      "63083  25668.04833   9255.256797  10390.66898  4773.584851\n",
      "63084  26281.03747   9678.959137  10385.86418  4905.853640\n",
      "63085  27651.59645  10518.463640  10679.65445  5081.468111\n",
      "63086  28636.69504  10871.584340  11042.50463  5257.190057\n",
      "63087  29614.60226  11543.334880  11139.39918  5380.665522\n",
      "63088  30593.11679  12188.840280  11246.32155  5506.809201\n",
      "63089  31506.78920  12776.360250  11283.66534  5694.133805\n",
      "63090  32085.83632  13192.796640  11251.32508  5864.291234\n",
      "63091  31564.03069  13016.428000  10996.94868  5751.954007\n",
      "63092  33364.34650  13926.620920  11359.88272  6195.343757\n",
      "63093  34487.01162  14737.125790  11388.08551  6366.902202\n",
      "63094  35006.26758  14922.759400  11541.70714  6500.593776\n",
      "63095  35319.20162  15024.486030  11626.44596  6542.527061\n",
      "63096  35577.53477  15051.512770  11678.78215  6654.555376\n",
      "63097  35558.56574  14710.087470  11929.66576  6788.073864\n",
      "63098  35524.19321  14360.605250  12023.83328  6973.648992\n",
      "63099  36096.73928  14506.973810  12242.62794  7144.928128\n",
      "63100  36826.50660  14746.830690  12266.01629  7529.846784\n",
      "63101  37082.55897  14725.978030  12345.65337  7647.528220\n",
      "63102  35264.08573  14174.564010  11191.80855  7556.290283\n",
      "63103  37123.85035  14979.598080  11837.15912  7921.829472\n"
     ]
    }
   ],
   "source": [
    "# Split our preprocessed data into our features and target arrays\n",
    "df_dl_2000_new = df_dl_2000.drop(['Country','ISO 3166-1 alpha-3','Year','Per Capita','Cement','Flaring','Other'], axis=1)\n",
    "#df.drop(['column_nameA', 'column_nameB'], axis=1, inplace=True)\n",
    "print(df_dl_2000_new)\n",
    "# df_deeplearining_2000_new.to_csv(r'C:\\Users\\Violet.Huang\\Documents\\14_Berkerly bootscamp\\Final_Project\\Group-Project\\Deep learning\\deeplearining_2000_new.csv')"
   ]
  },
  {
   "cell_type": "code",
   "execution_count": 5,
   "id": "d2db7ae2",
   "metadata": {},
   "outputs": [
    {
     "data": {
      "text/plain": [
       "(22, 3)"
      ]
     },
     "execution_count": 5,
     "metadata": {},
     "output_type": "execute_result"
    }
   ],
   "source": [
    "# Split our preprocessed data into our features and target arrays\n",
    "X = df_dl_2000_new.drop(columns=\"Total\")\n",
    "y = df_dl_2000_new[\"Total\"]\n",
    "X.shape"
   ]
  },
  {
   "cell_type": "code",
   "execution_count": 6,
   "id": "a2c2f0ec",
   "metadata": {},
   "outputs": [
    {
     "data": {
      "text/plain": [
       "Total    22\n",
       "Coal     22\n",
       "Oil      22\n",
       "Gas      22\n",
       "dtype: int64"
      ]
     },
     "execution_count": 6,
     "metadata": {},
     "output_type": "execute_result"
    }
   ],
   "source": [
    "# Determine the number of unique values in each column.\n",
    "counts = df_dl_2000_new.nunique()\n",
    "counts"
   ]
  },
  {
   "cell_type": "code",
   "execution_count": 7,
   "id": "49ce86d1",
   "metadata": {},
   "outputs": [],
   "source": [
    "# Split the preprocessed data into a training and testing dataset\n",
    "X_train, X_test, y_train, y_test = train_test_split(X, y, test_size=0.30, random_state=78)"
   ]
  },
  {
   "cell_type": "code",
   "execution_count": 8,
   "id": "9fd8cb04",
   "metadata": {},
   "outputs": [
    {
     "data": {
      "text/plain": [
       "3"
      ]
     },
     "execution_count": 8,
     "metadata": {},
     "output_type": "execute_result"
    }
   ],
   "source": [
    "# Create a StandardScaler instances\n",
    "scaler = StandardScaler()\n",
    "\n",
    "# Fit the StandardScaler\n",
    "X_scaler = scaler.fit(X_train)\n",
    "\n",
    "# Scale the data\n",
    "X_train_scaled = X_scaler.transform(X_train)\n",
    "X_test_scaled = X_scaler.transform(X_test)\n",
    "\n",
    "len(X_train_scaled[0])"
   ]
  },
  {
   "cell_type": "code",
   "execution_count": 9,
   "id": "2cd9fc46",
   "metadata": {},
   "outputs": [],
   "source": [
    "# Add our first Dense layer, including the input layer\n",
    "nn_model = tf.keras.models.Sequential()\n",
    "nn_model.add(tf.keras.layers.Dense(units=1, activation=\"relu\", input_dim=6))"
   ]
  },
  {
   "cell_type": "code",
   "execution_count": 10,
   "id": "fdd7ef69",
   "metadata": {},
   "outputs": [
    {
     "name": "stdout",
     "output_type": "stream",
     "text": [
      "Model: \"sequential_1\"\n",
      "_________________________________________________________________\n",
      " Layer (type)                Output Shape              Param #   \n",
      "=================================================================\n",
      " dense_1 (Dense)             (None, 100)               400       \n",
      "                                                                 \n",
      " dense_2 (Dense)             (None, 50)                5050      \n",
      "                                                                 \n",
      " dense_3 (Dense)             (None, 1)                 51        \n",
      "                                                                 \n",
      "=================================================================\n",
      "Total params: 5,501\n",
      "Trainable params: 5,501\n",
      "Non-trainable params: 0\n",
      "_________________________________________________________________\n"
     ]
    }
   ],
   "source": [
    "# Define the model - deep neural net, i.e., the number of input features and hidden nodes for each layer.\n",
    "# number_input_features = len(X_train_scaled[0])\n",
    "number_input_features = len(X_train_scaled[0])\n",
    "hidden_nodes_layer1 = 100\n",
    "hidden_nodes_layer2 = 50\n",
    "\n",
    "nn_model = tf.keras.models.Sequential()\n",
    "\n",
    "# First hidden layer\n",
    "nn_model.add(\n",
    "    tf.keras.layers.Dense(units=hidden_nodes_layer1, input_dim=number_input_features, activation=\"relu\"))\n",
    "\n",
    "# Second hidden layer\n",
    "nn_model.add(tf.keras.layers.Dense(units=hidden_nodes_layer2, activation=\"relu\"))\n",
    "\n",
    "# Output layer\n",
    "# nn_model.add(tf.keras.layers.Dense(units=1, activation=\"linear\"))\n",
    "nn_model.add(tf.keras.layers.Dense(units=1))\n",
    "\n",
    "# Check the structure of the model\n",
    "nn_model.summary()"
   ]
  },
  {
   "cell_type": "code",
   "execution_count": 11,
   "id": "eefc0bb5",
   "metadata": {},
   "outputs": [],
   "source": [
    "# Compile the model\n",
    "nn_model.compile(loss=\"mean_squared_error\", optimizer=\"adam\", metrics=[\"mean_squared_error\"])"
   ]
  },
  {
   "cell_type": "code",
   "execution_count": 12,
   "id": "0644f821",
   "metadata": {},
   "outputs": [
    {
     "name": "stdout",
     "output_type": "stream",
     "text": [
      "Epoch 1/100\n",
      "1/1 [==============================] - 0s 426ms/step - loss: 967731968.0000 - mean_squared_error: 967731968.0000\n",
      "Epoch 2/100\n",
      "1/1 [==============================] - 0s 13ms/step - loss: 928623808.0000 - mean_squared_error: 928623808.0000\n",
      "Epoch 3/100\n",
      "1/1 [==============================] - 0s 8ms/step - loss: 890818624.0000 - mean_squared_error: 890818624.0000\n",
      "Epoch 4/100\n",
      "1/1 [==============================] - 0s 5ms/step - loss: 856347328.0000 - mean_squared_error: 856347328.0000\n",
      "Epoch 5/100\n",
      "1/1 [==============================] - 0s 5ms/step - loss: 824570944.0000 - mean_squared_error: 824570944.0000\n",
      "Epoch 6/100\n",
      "1/1 [==============================] - 0s 5ms/step - loss: 794409344.0000 - mean_squared_error: 794409344.0000\n",
      "Epoch 7/100\n",
      "1/1 [==============================] - 0s 5ms/step - loss: 766131008.0000 - mean_squared_error: 766131008.0000\n",
      "Epoch 8/100\n",
      "1/1 [==============================] - 0s 4ms/step - loss: 738665216.0000 - mean_squared_error: 738665216.0000\n",
      "Epoch 9/100\n",
      "1/1 [==============================] - 0s 5ms/step - loss: 711461952.0000 - mean_squared_error: 711461952.0000\n",
      "Epoch 10/100\n",
      "1/1 [==============================] - 0s 4ms/step - loss: 685227456.0000 - mean_squared_error: 685227456.0000\n",
      "Epoch 11/100\n",
      "1/1 [==============================] - 0s 6ms/step - loss: 659685120.0000 - mean_squared_error: 659685120.0000\n",
      "Epoch 12/100\n",
      "1/1 [==============================] - 0s 5ms/step - loss: 637020032.0000 - mean_squared_error: 637020032.0000\n",
      "Epoch 13/100\n",
      "1/1 [==============================] - 0s 6ms/step - loss: 615348608.0000 - mean_squared_error: 615348608.0000\n",
      "Epoch 14/100\n",
      "1/1 [==============================] - 0s 6ms/step - loss: 593639296.0000 - mean_squared_error: 593639296.0000\n",
      "Epoch 15/100\n",
      "1/1 [==============================] - 0s 5ms/step - loss: 571841664.0000 - mean_squared_error: 571841664.0000\n",
      "Epoch 16/100\n",
      "1/1 [==============================] - 0s 5ms/step - loss: 549924992.0000 - mean_squared_error: 549924992.0000\n",
      "Epoch 17/100\n",
      "1/1 [==============================] - 0s 4ms/step - loss: 527922144.0000 - mean_squared_error: 527922144.0000\n",
      "Epoch 18/100\n",
      "1/1 [==============================] - 0s 6ms/step - loss: 505867616.0000 - mean_squared_error: 505867616.0000\n",
      "Epoch 19/100\n",
      "1/1 [==============================] - 0s 4ms/step - loss: 483781440.0000 - mean_squared_error: 483781440.0000\n",
      "Epoch 20/100\n",
      "1/1 [==============================] - 0s 4ms/step - loss: 461670208.0000 - mean_squared_error: 461670208.0000\n",
      "Epoch 21/100\n",
      "1/1 [==============================] - 0s 5ms/step - loss: 439907936.0000 - mean_squared_error: 439907936.0000\n",
      "Epoch 22/100\n",
      "1/1 [==============================] - 0s 4ms/step - loss: 418418208.0000 - mean_squared_error: 418418208.0000\n",
      "Epoch 23/100\n",
      "1/1 [==============================] - 0s 5ms/step - loss: 397057184.0000 - mean_squared_error: 397057184.0000\n",
      "Epoch 24/100\n",
      "1/1 [==============================] - 0s 4ms/step - loss: 375818880.0000 - mean_squared_error: 375818880.0000\n",
      "Epoch 25/100\n",
      "1/1 [==============================] - 0s 5ms/step - loss: 354709152.0000 - mean_squared_error: 354709152.0000\n",
      "Epoch 26/100\n",
      "1/1 [==============================] - 0s 4ms/step - loss: 333803296.0000 - mean_squared_error: 333803296.0000\n",
      "Epoch 27/100\n",
      "1/1 [==============================] - 0s 5ms/step - loss: 313027936.0000 - mean_squared_error: 313027936.0000\n",
      "Epoch 28/100\n",
      "1/1 [==============================] - 0s 4ms/step - loss: 292545824.0000 - mean_squared_error: 292545824.0000\n",
      "Epoch 29/100\n",
      "1/1 [==============================] - 0s 5ms/step - loss: 272397920.0000 - mean_squared_error: 272397920.0000\n",
      "Epoch 30/100\n",
      "1/1 [==============================] - 0s 5ms/step - loss: 252550160.0000 - mean_squared_error: 252550160.0000\n",
      "Epoch 31/100\n",
      "1/1 [==============================] - 0s 5ms/step - loss: 233142416.0000 - mean_squared_error: 233142416.0000\n",
      "Epoch 32/100\n",
      "1/1 [==============================] - 0s 4ms/step - loss: 214198576.0000 - mean_squared_error: 214198576.0000\n",
      "Epoch 33/100\n",
      "1/1 [==============================] - 0s 3ms/step - loss: 195774464.0000 - mean_squared_error: 195774464.0000\n",
      "Epoch 34/100\n",
      "1/1 [==============================] - 0s 5ms/step - loss: 177925280.0000 - mean_squared_error: 177925280.0000\n",
      "Epoch 35/100\n",
      "1/1 [==============================] - 0s 5ms/step - loss: 160707008.0000 - mean_squared_error: 160707008.0000\n",
      "Epoch 36/100\n",
      "1/1 [==============================] - 0s 5ms/step - loss: 144175664.0000 - mean_squared_error: 144175664.0000\n",
      "Epoch 37/100\n",
      "1/1 [==============================] - 0s 5ms/step - loss: 128384384.0000 - mean_squared_error: 128384384.0000\n",
      "Epoch 38/100\n",
      "1/1 [==============================] - 0s 5ms/step - loss: 113386016.0000 - mean_squared_error: 113386016.0000\n",
      "Epoch 39/100\n",
      "1/1 [==============================] - 0s 5ms/step - loss: 99230768.0000 - mean_squared_error: 99230768.0000\n",
      "Epoch 40/100\n",
      "1/1 [==============================] - 0s 4ms/step - loss: 85961936.0000 - mean_squared_error: 85961936.0000\n",
      "Epoch 41/100\n",
      "1/1 [==============================] - 0s 3ms/step - loss: 73621720.0000 - mean_squared_error: 73621720.0000\n",
      "Epoch 42/100\n",
      "1/1 [==============================] - 0s 5ms/step - loss: 62242196.0000 - mean_squared_error: 62242196.0000\n",
      "Epoch 43/100\n",
      "1/1 [==============================] - 0s 5ms/step - loss: 51839196.0000 - mean_squared_error: 51839196.0000\n",
      "Epoch 44/100\n",
      "1/1 [==============================] - 0s 5ms/step - loss: 42443636.0000 - mean_squared_error: 42443636.0000\n",
      "Epoch 45/100\n",
      "1/1 [==============================] - 0s 5ms/step - loss: 34031700.0000 - mean_squared_error: 34031700.0000\n",
      "Epoch 46/100\n",
      "1/1 [==============================] - 0s 5ms/step - loss: 26628882.0000 - mean_squared_error: 26628882.0000\n",
      "Epoch 47/100\n",
      "1/1 [==============================] - 0s 5ms/step - loss: 20190582.0000 - mean_squared_error: 20190582.0000\n",
      "Epoch 48/100\n",
      "1/1 [==============================] - 0s 5ms/step - loss: 14684553.0000 - mean_squared_error: 14684553.0000\n",
      "Epoch 49/100\n",
      "1/1 [==============================] - 0s 3ms/step - loss: 10075661.0000 - mean_squared_error: 10075661.0000\n",
      "Epoch 50/100\n",
      "1/1 [==============================] - 0s 4ms/step - loss: 6423818.5000 - mean_squared_error: 6423818.5000\n",
      "Epoch 51/100\n",
      "1/1 [==============================] - 0s 5ms/step - loss: 3677346.5000 - mean_squared_error: 3677346.5000\n",
      "Epoch 52/100\n",
      "1/1 [==============================] - 0s 5ms/step - loss: 1766146.3750 - mean_squared_error: 1766146.3750\n",
      "Epoch 53/100\n",
      "1/1 [==============================] - 0s 5ms/step - loss: 606359.4375 - mean_squared_error: 606359.4375\n",
      "Epoch 54/100\n",
      "1/1 [==============================] - 0s 5ms/step - loss: 97339.6641 - mean_squared_error: 97339.6641\n",
      "Epoch 55/100\n",
      "1/1 [==============================] - 0s 4ms/step - loss: 124900.3672 - mean_squared_error: 124900.3672\n",
      "Epoch 56/100\n",
      "1/1 [==============================] - 0s 5ms/step - loss: 564845.2500 - mean_squared_error: 564845.2500\n",
      "Epoch 57/100\n",
      "1/1 [==============================] - 0s 5ms/step - loss: 1287597.3750 - mean_squared_error: 1287597.3750\n",
      "Epoch 58/100\n",
      "1/1 [==============================] - 0s 5ms/step - loss: 2166184.5000 - mean_squared_error: 2166184.5000\n",
      "Epoch 59/100\n",
      "1/1 [==============================] - 0s 5ms/step - loss: 3086095.0000 - mean_squared_error: 3086095.0000\n",
      "Epoch 60/100\n",
      "1/1 [==============================] - 0s 4ms/step - loss: 3952605.2500 - mean_squared_error: 3952605.2500\n",
      "Epoch 61/100\n",
      "1/1 [==============================] - 0s 4ms/step - loss: 4694421.5000 - mean_squared_error: 4694421.5000\n",
      "Epoch 62/100\n",
      "1/1 [==============================] - 0s 4ms/step - loss: 5264248.5000 - mean_squared_error: 5264248.5000\n",
      "Epoch 63/100\n",
      "1/1 [==============================] - 0s 5ms/step - loss: 5637113.5000 - mean_squared_error: 5637113.5000\n",
      "Epoch 64/100\n",
      "1/1 [==============================] - 0s 5ms/step - loss: 5807278.0000 - mean_squared_error: 5807278.0000\n",
      "Epoch 65/100\n",
      "1/1 [==============================] - 0s 4ms/step - loss: 5784481.0000 - mean_squared_error: 5784481.0000\n",
      "Epoch 66/100\n",
      "1/1 [==============================] - 0s 4ms/step - loss: 5589988.5000 - mean_squared_error: 5589988.5000\n",
      "Epoch 67/100\n"
     ]
    },
    {
     "name": "stdout",
     "output_type": "stream",
     "text": [
      "1/1 [==============================] - 0s 4ms/step - loss: 5252792.0000 - mean_squared_error: 5252792.0000\n",
      "Epoch 68/100\n",
      "1/1 [==============================] - 0s 4ms/step - loss: 4806140.5000 - mean_squared_error: 4806140.5000\n",
      "Epoch 69/100\n",
      "1/1 [==============================] - 0s 5ms/step - loss: 4284538.0000 - mean_squared_error: 4284538.0000\n",
      "Epoch 70/100\n",
      "1/1 [==============================] - 0s 4ms/step - loss: 3721309.2500 - mean_squared_error: 3721309.2500\n",
      "Epoch 71/100\n",
      "1/1 [==============================] - 0s 5ms/step - loss: 3146745.5000 - mean_squared_error: 3146745.5000\n",
      "Epoch 72/100\n",
      "1/1 [==============================] - 0s 4ms/step - loss: 2586812.2500 - mean_squared_error: 2586812.2500\n",
      "Epoch 73/100\n",
      "1/1 [==============================] - 0s 4ms/step - loss: 2062706.8750 - mean_squared_error: 2062706.8750\n",
      "Epoch 74/100\n",
      "1/1 [==============================] - 0s 5ms/step - loss: 1590001.2500 - mean_squared_error: 1590001.2500\n",
      "Epoch 75/100\n",
      "1/1 [==============================] - 0s 4ms/step - loss: 1195893.8750 - mean_squared_error: 1195893.8750\n",
      "Epoch 76/100\n",
      "1/1 [==============================] - 0s 5ms/step - loss: 876868.3125 - mean_squared_error: 876868.3125\n",
      "Epoch 77/100\n",
      "1/1 [==============================] - 0s 4ms/step - loss: 620160.5625 - mean_squared_error: 620160.5625\n",
      "Epoch 78/100\n",
      "1/1 [==============================] - 0s 4ms/step - loss: 417925.5312 - mean_squared_error: 417925.5312\n",
      "Epoch 79/100\n",
      "1/1 [==============================] - 0s 5ms/step - loss: 266179.4688 - mean_squared_error: 266179.4688\n",
      "Epoch 80/100\n",
      "1/1 [==============================] - 0s 5ms/step - loss: 156773.5469 - mean_squared_error: 156773.5469\n",
      "Epoch 81/100\n",
      "1/1 [==============================] - 0s 5ms/step - loss: 84548.6641 - mean_squared_error: 84548.6641\n",
      "Epoch 82/100\n",
      "1/1 [==============================] - 0s 4ms/step - loss: 42965.9844 - mean_squared_error: 42965.9844\n",
      "Epoch 83/100\n",
      "1/1 [==============================] - 0s 5ms/step - loss: 26179.8457 - mean_squared_error: 26179.8457\n",
      "Epoch 84/100\n",
      "1/1 [==============================] - 0s 4ms/step - loss: 28666.9297 - mean_squared_error: 28666.9297\n",
      "Epoch 85/100\n",
      "1/1 [==============================] - 0s 5ms/step - loss: 45185.5508 - mean_squared_error: 45185.5508\n",
      "Epoch 86/100\n",
      "1/1 [==============================] - 0s 5ms/step - loss: 70929.5469 - mean_squared_error: 70929.5469\n",
      "Epoch 87/100\n",
      "1/1 [==============================] - 0s 5ms/step - loss: 101661.3281 - mean_squared_error: 101661.3281\n",
      "Epoch 88/100\n",
      "1/1 [==============================] - 0s 5ms/step - loss: 133792.6250 - mean_squared_error: 133792.6250\n",
      "Epoch 89/100\n",
      "1/1 [==============================] - 0s 5ms/step - loss: 164426.5625 - mean_squared_error: 164426.5625\n",
      "Epoch 90/100\n",
      "1/1 [==============================] - 0s 5ms/step - loss: 191361.1094 - mean_squared_error: 191361.1094\n",
      "Epoch 91/100\n",
      "1/1 [==============================] - 0s 5ms/step - loss: 213058.4062 - mean_squared_error: 213058.4062\n",
      "Epoch 92/100\n",
      "1/1 [==============================] - 0s 5ms/step - loss: 228593.7344 - mean_squared_error: 228593.7344\n",
      "Epoch 93/100\n",
      "1/1 [==============================] - 0s 5ms/step - loss: 237579.0625 - mean_squared_error: 237579.0625\n",
      "Epoch 94/100\n",
      "1/1 [==============================] - 0s 3ms/step - loss: 240086.0781 - mean_squared_error: 240086.0781\n",
      "Epoch 95/100\n",
      "1/1 [==============================] - 0s 5ms/step - loss: 236553.7969 - mean_squared_error: 236553.7969\n",
      "Epoch 96/100\n",
      "1/1 [==============================] - 0s 5ms/step - loss: 227702.4375 - mean_squared_error: 227702.4375\n",
      "Epoch 97/100\n",
      "1/1 [==============================] - 0s 5ms/step - loss: 214439.7969 - mean_squared_error: 214439.7969\n",
      "Epoch 98/100\n",
      "1/1 [==============================] - 0s 5ms/step - loss: 197781.9375 - mean_squared_error: 197781.9375\n",
      "Epoch 99/100\n",
      "1/1 [==============================] - 0s 5ms/step - loss: 178786.4688 - mean_squared_error: 178786.4688\n",
      "Epoch 100/100\n",
      "1/1 [==============================] - 0s 5ms/step - loss: 158477.7344 - mean_squared_error: 158477.7344\n"
     ]
    }
   ],
   "source": [
    "# Train the model\n",
    "fit_model = nn_model.fit(X_train,y_train,epochs=100)"
   ]
  },
  {
   "cell_type": "code",
   "execution_count": 13,
   "id": "e011b07c",
   "metadata": {
    "scrolled": false
   },
   "outputs": [
    {
     "name": "stdout",
     "output_type": "stream",
     "text": [
      "1/1 - 0s - loss: 1105854464.0000 - mean_squared_error: 1105854464.0000 - 150ms/epoch - 150ms/step\n",
      "Loss: 1105854464.0, Accuracy: 1105854464.0\n"
     ]
    }
   ],
   "source": [
    "# Evaluate the model using the test data\n",
    "model_loss, model_accuracy = nn_model.evaluate(X_test_scaled,y_test,verbose=2)\n",
    "print(f\"Loss: {model_loss}, Accuracy: {model_accuracy}\")"
   ]
  },
  {
   "cell_type": "code",
   "execution_count": 14,
   "id": "e0bad41e",
   "metadata": {
    "scrolled": true
   },
   "outputs": [
    {
     "name": "stdout",
     "output_type": "stream",
     "text": [
      "1/1 [==============================] - 0s 83ms/step\n",
      "371.2312632959459\n"
     ]
    }
   ],
   "source": [
    "pred_train = nn_model.predict(X_train)\n",
    "print(np.sqrt(mean_squared_error(y_train, pred_train)))\n",
    "\n",
    "# nn_model.save(\"deeplearning.2000\")"
   ]
  },
  {
   "cell_type": "code",
   "execution_count": 15,
   "id": "bea2fda3",
   "metadata": {
    "scrolled": false
   },
   "outputs": [
    {
     "name": "stdout",
     "output_type": "stream",
     "text": [
      "1/1 [==============================] - 0s 18ms/step\n",
      "416.32574077902547\n"
     ]
    }
   ],
   "source": [
    "pred = nn_model.predict(X_test)\n",
    "print(np.sqrt(mean_squared_error(y_test, pred)))"
   ]
  },
  {
   "cell_type": "code",
   "execution_count": null,
   "id": "ca438e9a",
   "metadata": {},
   "outputs": [],
   "source": []
  }
 ],
 "metadata": {
  "kernelspec": {
   "display_name": "Python 3 (ipykernel)",
   "language": "python",
   "name": "python3"
  },
  "language_info": {
   "codemirror_mode": {
    "name": "ipython",
    "version": 3
   },
   "file_extension": ".py",
   "mimetype": "text/x-python",
   "name": "python",
   "nbconvert_exporter": "python",
   "pygments_lexer": "ipython3",
   "version": "3.9.13"
  }
 },
 "nbformat": 4,
 "nbformat_minor": 5
}
