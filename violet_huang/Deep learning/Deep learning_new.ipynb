{
 "cells": [
  {
   "cell_type": "code",
   "execution_count": 1,
   "id": "046ae5ce",
   "metadata": {},
   "outputs": [],
   "source": [
    "# Import our dependencies\n",
    "from sklearn.model_selection import train_test_split\n",
    "from sklearn.preprocessing import StandardScaler,OneHotEncoder\n",
    "from sklearn.metrics import mean_squared_error\n",
    "import pandas as pd\n",
    "import tensorflow as tf\n",
    "import numpy as np"
   ]
  },
  {
   "cell_type": "code",
   "execution_count": 2,
   "id": "e15a359c",
   "metadata": {},
   "outputs": [],
   "source": [
    "#  Import and read the charity_data.csv.\n",
    "application_df = pd.read_csv(\"GCB2022v27_MtCO2_flat.csv\")\n",
    "#application_df.head()"
   ]
  },
  {
   "cell_type": "code",
   "execution_count": 3,
   "id": "3168172c",
   "metadata": {
    "scrolled": true
   },
   "outputs": [
    {
     "data": {
      "text/plain": [
       "(122, 11)"
      ]
     },
     "execution_count": 3,
     "metadata": {},
     "output_type": "execute_result"
    }
   ],
   "source": [
    "# selecting 2000 data, checking the clustering data\n",
    "\n",
    "df_dl_2000 = application_df[(application_df['Year'] >= 1900) & (application_df ['Country'] == 'Global')]\n",
    "df_dl_2000.shape\n",
    "# print(df_dl_2000)\n",
    "#save every country data for 2000\n",
    "#df_deeplearining_2000.to_csv(r'C:\\Users\\Violet.Huang\\Documents\\14_Berkerly bootscamp\\Final_Project\\Group-Project\\Deep learning\\deeplearining_2000.csv')"
   ]
  },
  {
   "cell_type": "code",
   "execution_count": 4,
   "id": "d2be5637",
   "metadata": {},
   "outputs": [
    {
     "name": "stdout",
     "output_type": "stream",
     "text": [
      "              Total          Coal           Oil          Gas\n",
      "62982   1952.209498   1873.356867     67.309637    11.541600\n",
      "62983   2016.744495   1929.131922     74.750267    12.860640\n",
      "62984   2067.683966   1973.177627     80.808149    13.696032\n",
      "62985   2254.094927   2154.002798     85.561821    14.527760\n",
      "62986   2279.748708   2166.663609     96.083367    15.165234\n",
      "...             ...           ...           ...          ...\n",
      "63099  36096.739280  14506.973810  12242.627940  7144.928128\n",
      "63100  36826.506600  14746.830690  12266.016290  7529.846784\n",
      "63101  37082.558970  14725.978030  12345.653370  7647.528220\n",
      "63102  35264.085730  14174.564010  11191.808550  7556.290283\n",
      "63103  37123.850350  14979.598080  11837.159120  7921.829472\n",
      "\n",
      "[122 rows x 4 columns]\n"
     ]
    }
   ],
   "source": [
    "# Split our preprocessed data into our features and target arrays\n",
    "df_dl_2000_new = df_dl_2000.drop(['Country','ISO 3166-1 alpha-3','Year','Per Capita','Cement','Flaring','Other'], axis=1)\n",
    "#df.drop(['column_nameA', 'column_nameB'], axis=1, inplace=True)\n",
    "print(df_dl_2000_new)\n",
    "# df_deeplearining_2000_new.to_csv(r'C:\\Users\\Violet.Huang\\Documents\\14_Berkerly bootscamp\\Final_Project\\Group-Project\\Deep learning\\deeplearining_2000_new.csv')"
   ]
  },
  {
   "cell_type": "code",
   "execution_count": 5,
   "id": "d2db7ae2",
   "metadata": {},
   "outputs": [
    {
     "data": {
      "text/plain": [
       "(122, 3)"
      ]
     },
     "execution_count": 5,
     "metadata": {},
     "output_type": "execute_result"
    }
   ],
   "source": [
    "# Split our preprocessed data into our features and target arrays\n",
    "X = df_dl_2000_new.drop(columns=\"Total\")\n",
    "y = df_dl_2000_new[\"Total\"]\n",
    "X.shape"
   ]
  },
  {
   "cell_type": "code",
   "execution_count": 6,
   "id": "a2c2f0ec",
   "metadata": {},
   "outputs": [
    {
     "data": {
      "text/plain": [
       "Total    122\n",
       "Coal     122\n",
       "Oil      122\n",
       "Gas      122\n",
       "dtype: int64"
      ]
     },
     "execution_count": 6,
     "metadata": {},
     "output_type": "execute_result"
    }
   ],
   "source": [
    "# Determine the number of unique values in each column.\n",
    "counts = df_dl_2000_new.nunique()\n",
    "counts"
   ]
  },
  {
   "cell_type": "code",
   "execution_count": 7,
   "id": "49ce86d1",
   "metadata": {},
   "outputs": [],
   "source": [
    "# Split the preprocessed data into a training and testing dataset\n",
    "X_train, X_test, y_train, y_test = train_test_split(X, y, test_size=0.30, random_state=78)"
   ]
  },
  {
   "cell_type": "code",
   "execution_count": 8,
   "id": "9fd8cb04",
   "metadata": {},
   "outputs": [
    {
     "data": {
      "text/plain": [
       "3"
      ]
     },
     "execution_count": 8,
     "metadata": {},
     "output_type": "execute_result"
    }
   ],
   "source": [
    "# Create a StandardScaler instances\n",
    "scaler = StandardScaler()\n",
    "\n",
    "# Fit the StandardScaler\n",
    "X_scaler = scaler.fit(X_train)\n",
    "\n",
    "# Scale the data\n",
    "X_train_scaled = X_scaler.transform(X_train)\n",
    "X_test_scaled = X_scaler.transform(X_test)\n",
    "\n",
    "len(X_train_scaled[0])"
   ]
  },
  {
   "cell_type": "code",
   "execution_count": 9,
   "id": "2cd9fc46",
   "metadata": {},
   "outputs": [],
   "source": [
    "# Add our first Dense layer, including the input layer\n",
    "nn_model = tf.keras.models.Sequential()\n",
    "nn_model.add(tf.keras.layers.Dense(units=1, activation=\"relu\", input_dim=6))"
   ]
  },
  {
   "cell_type": "code",
   "execution_count": 10,
   "id": "fdd7ef69",
   "metadata": {},
   "outputs": [
    {
     "name": "stdout",
     "output_type": "stream",
     "text": [
      "Model: \"sequential_1\"\n",
      "_________________________________________________________________\n",
      " Layer (type)                Output Shape              Param #   \n",
      "=================================================================\n",
      " dense_1 (Dense)             (None, 100)               400       \n",
      "                                                                 \n",
      " dense_2 (Dense)             (None, 50)                5050      \n",
      "                                                                 \n",
      " dense_3 (Dense)             (None, 1)                 51        \n",
      "                                                                 \n",
      "=================================================================\n",
      "Total params: 5,501\n",
      "Trainable params: 5,501\n",
      "Non-trainable params: 0\n",
      "_________________________________________________________________\n"
     ]
    }
   ],
   "source": [
    "# Define the model - deep neural net, i.e., the number of input features and hidden nodes for each layer.\n",
    "# number_input_features = len(X_train_scaled[0])\n",
    "number_input_features = len(X_train_scaled[0])\n",
    "hidden_nodes_layer1 = 100\n",
    "hidden_nodes_layer2 = 50\n",
    "\n",
    "nn_model = tf.keras.models.Sequential()\n",
    "\n",
    "# First hidden layer\n",
    "nn_model.add(\n",
    "    tf.keras.layers.Dense(units=hidden_nodes_layer1, input_dim=number_input_features, activation=\"relu\"))\n",
    "\n",
    "# Second hidden layer\n",
    "nn_model.add(tf.keras.layers.Dense(units=hidden_nodes_layer2, activation=\"relu\"))\n",
    "\n",
    "# Output layer\n",
    "# nn_model.add(tf.keras.layers.Dense(units=1, activation=\"linear\"))\n",
    "nn_model.add(tf.keras.layers.Dense(units=1))\n",
    "\n",
    "# Check the structure of the model\n",
    "nn_model.summary()"
   ]
  },
  {
   "cell_type": "code",
   "execution_count": 11,
   "id": "eefc0bb5",
   "metadata": {},
   "outputs": [],
   "source": [
    "# Compile the model\n",
    "nn_model.compile(loss=\"mean_squared_error\", optimizer=\"adam\", metrics=[\"mean_squared_error\"])"
   ]
  },
  {
   "cell_type": "code",
   "execution_count": 12,
   "id": "0644f821",
   "metadata": {},
   "outputs": [
    {
     "name": "stdout",
     "output_type": "stream",
     "text": [
      "Epoch 1/100\n",
      "3/3 [==============================] - 0s 2ms/step - loss: 345325824.0000 - mean_squared_error: 345325824.0000\n",
      "Epoch 2/100\n",
      "3/3 [==============================] - 0s 3ms/step - loss: 306662880.0000 - mean_squared_error: 306662880.0000\n",
      "Epoch 3/100\n",
      "3/3 [==============================] - 0s 3ms/step - loss: 268792832.0000 - mean_squared_error: 268792832.0000\n",
      "Epoch 4/100\n",
      "3/3 [==============================] - 0s 2ms/step - loss: 238504176.0000 - mean_squared_error: 238504176.0000\n",
      "Epoch 5/100\n",
      "3/3 [==============================] - 0s 3ms/step - loss: 208187968.0000 - mean_squared_error: 208187968.0000\n",
      "Epoch 6/100\n",
      "3/3 [==============================] - 0s 3ms/step - loss: 182085312.0000 - mean_squared_error: 182085312.0000\n",
      "Epoch 7/100\n",
      "3/3 [==============================] - 0s 3ms/step - loss: 158504208.0000 - mean_squared_error: 158504208.0000\n",
      "Epoch 8/100\n",
      "3/3 [==============================] - 0s 3ms/step - loss: 133065496.0000 - mean_squared_error: 133065496.0000\n",
      "Epoch 9/100\n",
      "3/3 [==============================] - 0s 3ms/step - loss: 112872704.0000 - mean_squared_error: 112872704.0000\n",
      "Epoch 10/100\n",
      "3/3 [==============================] - 0s 3ms/step - loss: 93850712.0000 - mean_squared_error: 93850712.0000\n",
      "Epoch 11/100\n",
      "3/3 [==============================] - 0s 3ms/step - loss: 75039192.0000 - mean_squared_error: 75039192.0000\n",
      "Epoch 12/100\n",
      "3/3 [==============================] - 0s 2ms/step - loss: 57235588.0000 - mean_squared_error: 57235588.0000\n",
      "Epoch 13/100\n",
      "3/3 [==============================] - 0s 3ms/step - loss: 42263084.0000 - mean_squared_error: 42263084.0000\n",
      "Epoch 14/100\n",
      "3/3 [==============================] - 0s 4ms/step - loss: 28181056.0000 - mean_squared_error: 28181056.0000\n",
      "Epoch 15/100\n",
      "3/3 [==============================] - 0s 3ms/step - loss: 18636766.0000 - mean_squared_error: 18636766.0000\n",
      "Epoch 16/100\n",
      "3/3 [==============================] - 0s 3ms/step - loss: 10359767.0000 - mean_squared_error: 10359767.0000\n",
      "Epoch 17/100\n",
      "3/3 [==============================] - 0s 3ms/step - loss: 4384227.0000 - mean_squared_error: 4384227.0000\n",
      "Epoch 18/100\n",
      "3/3 [==============================] - 0s 3ms/step - loss: 1223875.6250 - mean_squared_error: 1223875.6250\n",
      "Epoch 19/100\n",
      "3/3 [==============================] - 0s 2ms/step - loss: 315317.6875 - mean_squared_error: 315317.6875\n",
      "Epoch 20/100\n",
      "3/3 [==============================] - 0s 3ms/step - loss: 398920.5625 - mean_squared_error: 398920.5625\n",
      "Epoch 21/100\n",
      "3/3 [==============================] - 0s 3ms/step - loss: 945887.6875 - mean_squared_error: 945887.6875\n",
      "Epoch 22/100\n",
      "3/3 [==============================] - 0s 2ms/step - loss: 1462620.7500 - mean_squared_error: 1462620.7500\n",
      "Epoch 23/100\n",
      "3/3 [==============================] - 0s 3ms/step - loss: 1620710.2500 - mean_squared_error: 1620710.2500\n",
      "Epoch 24/100\n",
      "3/3 [==============================] - 0s 3ms/step - loss: 1442605.1250 - mean_squared_error: 1442605.1250\n",
      "Epoch 25/100\n",
      "3/3 [==============================] - 0s 2ms/step - loss: 1089674.0000 - mean_squared_error: 1089674.0000\n",
      "Epoch 26/100\n",
      "3/3 [==============================] - 0s 3ms/step - loss: 690202.4375 - mean_squared_error: 690202.4375\n",
      "Epoch 27/100\n",
      "3/3 [==============================] - 0s 2ms/step - loss: 407334.2188 - mean_squared_error: 407334.2188\n",
      "Epoch 28/100\n",
      "3/3 [==============================] - 0s 3ms/step - loss: 230624.7031 - mean_squared_error: 230624.7031\n",
      "Epoch 29/100\n",
      "3/3 [==============================] - 0s 2ms/step - loss: 165767.7344 - mean_squared_error: 165767.7344\n",
      "Epoch 30/100\n",
      "3/3 [==============================] - 0s 3ms/step - loss: 155810.5938 - mean_squared_error: 155810.5938\n",
      "Epoch 31/100\n",
      "3/3 [==============================] - 0s 3ms/step - loss: 189106.0312 - mean_squared_error: 189106.0312\n",
      "Epoch 32/100\n",
      "3/3 [==============================] - 0s 3ms/step - loss: 209310.3281 - mean_squared_error: 209310.3281\n",
      "Epoch 33/100\n",
      "3/3 [==============================] - 0s 2ms/step - loss: 215180.1875 - mean_squared_error: 215180.1875\n",
      "Epoch 34/100\n",
      "3/3 [==============================] - 0s 3ms/step - loss: 205492.1875 - mean_squared_error: 205492.1875\n",
      "Epoch 35/100\n",
      "3/3 [==============================] - 0s 3ms/step - loss: 182352.5938 - mean_squared_error: 182352.5938\n",
      "Epoch 36/100\n",
      "3/3 [==============================] - 0s 2ms/step - loss: 159428.3281 - mean_squared_error: 159428.3125\n",
      "Epoch 37/100\n",
      "3/3 [==============================] - 0s 3ms/step - loss: 141294.1562 - mean_squared_error: 141294.1562\n",
      "Epoch 38/100\n",
      "3/3 [==============================] - 0s 3ms/step - loss: 133025.9219 - mean_squared_error: 133025.9219\n",
      "Epoch 39/100\n",
      "3/3 [==============================] - 0s 3ms/step - loss: 127401.6484 - mean_squared_error: 127401.6484\n",
      "Epoch 40/100\n",
      "3/3 [==============================] - 0s 3ms/step - loss: 124617.1328 - mean_squared_error: 124617.1328\n",
      "Epoch 41/100\n",
      "3/3 [==============================] - 0s 3ms/step - loss: 123689.2266 - mean_squared_error: 123689.2266\n",
      "Epoch 42/100\n",
      "3/3 [==============================] - 0s 3ms/step - loss: 121677.2578 - mean_squared_error: 121677.2578\n",
      "Epoch 43/100\n",
      "3/3 [==============================] - 0s 3ms/step - loss: 118512.0000 - mean_squared_error: 118512.0000\n",
      "Epoch 44/100\n",
      "3/3 [==============================] - 0s 3ms/step - loss: 114819.5391 - mean_squared_error: 114819.5391\n",
      "Epoch 45/100\n",
      "3/3 [==============================] - 0s 2ms/step - loss: 111152.0000 - mean_squared_error: 111152.0000\n",
      "Epoch 46/100\n",
      "3/3 [==============================] - 0s 3ms/step - loss: 107497.7891 - mean_squared_error: 107497.7891\n",
      "Epoch 47/100\n",
      "3/3 [==============================] - 0s 3ms/step - loss: 104241.4609 - mean_squared_error: 104241.4609\n",
      "Epoch 48/100\n",
      "3/3 [==============================] - 0s 2ms/step - loss: 101590.1641 - mean_squared_error: 101590.1797\n",
      "Epoch 49/100\n",
      "3/3 [==============================] - 0s 3ms/step - loss: 99129.3438 - mean_squared_error: 99129.3438\n",
      "Epoch 50/100\n",
      "3/3 [==============================] - 0s 3ms/step - loss: 96914.5859 - mean_squared_error: 96914.5859\n",
      "Epoch 51/100\n",
      "3/3 [==============================] - 0s 3ms/step - loss: 94566.8672 - mean_squared_error: 94566.8672\n",
      "Epoch 52/100\n",
      "3/3 [==============================] - 0s 2ms/step - loss: 92129.7266 - mean_squared_error: 92129.7266\n",
      "Epoch 53/100\n",
      "3/3 [==============================] - 0s 2ms/step - loss: 89515.9766 - mean_squared_error: 89515.9766\n",
      "Epoch 54/100\n",
      "3/3 [==============================] - 0s 3ms/step - loss: 86900.7812 - mean_squared_error: 86900.7812\n",
      "Epoch 55/100\n",
      "3/3 [==============================] - 0s 3ms/step - loss: 84608.3906 - mean_squared_error: 84608.3906\n",
      "Epoch 56/100\n",
      "3/3 [==============================] - 0s 2ms/step - loss: 82203.3359 - mean_squared_error: 82203.3359\n",
      "Epoch 57/100\n",
      "3/3 [==============================] - 0s 3ms/step - loss: 79807.9062 - mean_squared_error: 79807.9062\n",
      "Epoch 58/100\n",
      "3/3 [==============================] - 0s 2ms/step - loss: 77505.5547 - mean_squared_error: 77505.5547\n",
      "Epoch 59/100\n",
      "3/3 [==============================] - 0s 3ms/step - loss: 75455.7188 - mean_squared_error: 75455.7188\n",
      "Epoch 60/100\n",
      "3/3 [==============================] - 0s 3ms/step - loss: 73390.7031 - mean_squared_error: 73390.7031\n",
      "Epoch 61/100\n",
      "3/3 [==============================] - 0s 2ms/step - loss: 70876.5547 - mean_squared_error: 70876.5547\n",
      "Epoch 62/100\n",
      "3/3 [==============================] - 0s 3ms/step - loss: 68863.3281 - mean_squared_error: 68863.3281\n",
      "Epoch 63/100\n",
      "3/3 [==============================] - 0s 2ms/step - loss: 66748.5781 - mean_squared_error: 66748.5781\n",
      "Epoch 64/100\n",
      "3/3 [==============================] - 0s 2ms/step - loss: 64638.5312 - mean_squared_error: 64638.5312\n",
      "Epoch 65/100\n",
      "3/3 [==============================] - 0s 3ms/step - loss: 62775.5078 - mean_squared_error: 62775.5078\n",
      "Epoch 66/100\n",
      "3/3 [==============================] - 0s 2ms/step - loss: 60948.9297 - mean_squared_error: 60948.9297\n",
      "Epoch 67/100\n",
      "3/3 [==============================] - 0s 2ms/step - loss: 59108.5312 - mean_squared_error: 59108.5312\n",
      "Epoch 68/100\n",
      "3/3 [==============================] - 0s 2ms/step - loss: 57309.6719 - mean_squared_error: 57309.6719\n",
      "Epoch 69/100\n",
      "3/3 [==============================] - 0s 2ms/step - loss: 55684.9883 - mean_squared_error: 55684.9883\n",
      "Epoch 70/100\n"
     ]
    },
    {
     "name": "stdout",
     "output_type": "stream",
     "text": [
      "3/3 [==============================] - 0s 3ms/step - loss: 54033.8398 - mean_squared_error: 54033.8398\n",
      "Epoch 71/100\n",
      "3/3 [==============================] - 0s 2ms/step - loss: 52664.9766 - mean_squared_error: 52664.9766\n",
      "Epoch 72/100\n",
      "3/3 [==============================] - 0s 3ms/step - loss: 51254.4414 - mean_squared_error: 51254.4414\n",
      "Epoch 73/100\n",
      "3/3 [==============================] - 0s 3ms/step - loss: 49707.3359 - mean_squared_error: 49707.3359\n",
      "Epoch 74/100\n",
      "3/3 [==============================] - 0s 3ms/step - loss: 48420.3633 - mean_squared_error: 48420.3633\n",
      "Epoch 75/100\n",
      "3/3 [==============================] - 0s 3ms/step - loss: 47066.6055 - mean_squared_error: 47066.6055\n",
      "Epoch 76/100\n",
      "3/3 [==============================] - 0s 2ms/step - loss: 45910.3711 - mean_squared_error: 45910.3711\n",
      "Epoch 77/100\n",
      "3/3 [==============================] - 0s 3ms/step - loss: 44797.2031 - mean_squared_error: 44797.2031\n",
      "Epoch 78/100\n",
      "3/3 [==============================] - 0s 3ms/step - loss: 44010.9453 - mean_squared_error: 44010.9453\n",
      "Epoch 79/100\n",
      "3/3 [==============================] - 0s 2ms/step - loss: 43178.5078 - mean_squared_error: 43178.5078\n",
      "Epoch 80/100\n",
      "3/3 [==============================] - 0s 2ms/step - loss: 42591.6758 - mean_squared_error: 42591.6758\n",
      "Epoch 81/100\n",
      "3/3 [==============================] - 0s 3ms/step - loss: 41507.8008 - mean_squared_error: 41507.8008\n",
      "Epoch 82/100\n",
      "3/3 [==============================] - 0s 2ms/step - loss: 40825.6406 - mean_squared_error: 40825.6406\n",
      "Epoch 83/100\n",
      "3/3 [==============================] - 0s 3ms/step - loss: 40067.5430 - mean_squared_error: 40067.5430\n",
      "Epoch 84/100\n",
      "3/3 [==============================] - 0s 3ms/step - loss: 39361.7305 - mean_squared_error: 39361.7305\n",
      "Epoch 85/100\n",
      "3/3 [==============================] - 0s 2ms/step - loss: 38701.7812 - mean_squared_error: 38701.7812\n",
      "Epoch 86/100\n",
      "3/3 [==============================] - 0s 3ms/step - loss: 38054.1250 - mean_squared_error: 38054.1250\n",
      "Epoch 87/100\n",
      "3/3 [==============================] - 0s 3ms/step - loss: 37431.4023 - mean_squared_error: 37431.4023\n",
      "Epoch 88/100\n",
      "3/3 [==============================] - 0s 2ms/step - loss: 36951.4062 - mean_squared_error: 36951.4062\n",
      "Epoch 89/100\n",
      "3/3 [==============================] - 0s 3ms/step - loss: 36235.5820 - mean_squared_error: 36235.5820\n",
      "Epoch 90/100\n",
      "3/3 [==============================] - 0s 2ms/step - loss: 35695.9922 - mean_squared_error: 35695.9922\n",
      "Epoch 91/100\n",
      "3/3 [==============================] - 0s 2ms/step - loss: 35261.5234 - mean_squared_error: 35261.5234\n",
      "Epoch 92/100\n",
      "3/3 [==============================] - 0s 3ms/step - loss: 34644.7148 - mean_squared_error: 34644.7148\n",
      "Epoch 93/100\n",
      "3/3 [==============================] - 0s 3ms/step - loss: 34123.4570 - mean_squared_error: 34123.4570\n",
      "Epoch 94/100\n",
      "3/3 [==============================] - 0s 2ms/step - loss: 33565.8750 - mean_squared_error: 33565.8750\n",
      "Epoch 95/100\n",
      "3/3 [==============================] - 0s 2ms/step - loss: 32958.2305 - mean_squared_error: 32958.2305\n",
      "Epoch 96/100\n",
      "3/3 [==============================] - 0s 2ms/step - loss: 32447.8008 - mean_squared_error: 32447.8008\n",
      "Epoch 97/100\n",
      "3/3 [==============================] - 0s 2ms/step - loss: 32065.3125 - mean_squared_error: 32065.3125\n",
      "Epoch 98/100\n",
      "3/3 [==============================] - 0s 3ms/step - loss: 31211.9668 - mean_squared_error: 31211.9668\n",
      "Epoch 99/100\n",
      "3/3 [==============================] - 0s 3ms/step - loss: 30548.2793 - mean_squared_error: 30548.2793\n",
      "Epoch 100/100\n",
      "3/3 [==============================] - 0s 2ms/step - loss: 30073.6113 - mean_squared_error: 30073.6113\n"
     ]
    }
   ],
   "source": [
    "# Train the model\n",
    "fit_model = nn_model.fit(X_train,y_train,epochs=100)"
   ]
  },
  {
   "cell_type": "code",
   "execution_count": 13,
   "id": "e011b07c",
   "metadata": {},
   "outputs": [
    {
     "name": "stdout",
     "output_type": "stream",
     "text": [
      "2/2 - 0s - loss: 236729456.0000 - mean_squared_error: 236729456.0000 - 163ms/epoch - 81ms/step\n",
      "Loss: 236729456.0, Accuracy: 236729456.0\n"
     ]
    }
   ],
   "source": [
    "# Evaluate the model using the test data\n",
    "model_loss, model_accuracy = nn_model.evaluate(X_test_scaled,y_test,verbose=2)\n",
    "print(f\"Loss: {model_loss}, Accuracy: {model_accuracy}\")"
   ]
  },
  {
   "cell_type": "code",
   "execution_count": 14,
   "id": "e0bad41e",
   "metadata": {
    "scrolled": true
   },
   "outputs": [
    {
     "name": "stdout",
     "output_type": "stream",
     "text": [
      "3/3 [==============================] - 0s 2ms/step\n",
      "171.83674510092155\n"
     ]
    }
   ],
   "source": [
    "pred_train = nn_model.predict(X_train)\n",
    "print(np.sqrt(mean_squared_error(y_train, pred_train)))\n",
    "\n",
    "# nn_model.save(\"deeplearning.2000\")"
   ]
  },
  {
   "cell_type": "code",
   "execution_count": 16,
   "id": "bea2fda3",
   "metadata": {
    "scrolled": false
   },
   "outputs": [
    {
     "name": "stdout",
     "output_type": "stream",
     "text": [
      "2/2 [==============================] - 0s 2ms/step\n",
      "134.81976073080608\n"
     ]
    }
   ],
   "source": [
    "pred = nn_model.predict(X_test)\n",
    "print(np.sqrt(mean_squared_error(y_test, pred)))"
   ]
  },
  {
   "cell_type": "code",
   "execution_count": null,
   "id": "ca438e9a",
   "metadata": {},
   "outputs": [],
   "source": []
  }
 ],
 "metadata": {
  "kernelspec": {
   "display_name": "Python 3 (ipykernel)",
   "language": "python",
   "name": "python3"
  },
  "language_info": {
   "codemirror_mode": {
    "name": "ipython",
    "version": 3
   },
   "file_extension": ".py",
   "mimetype": "text/x-python",
   "name": "python",
   "nbconvert_exporter": "python",
   "pygments_lexer": "ipython3",
   "version": "3.9.13"
  }
 },
 "nbformat": 4,
 "nbformat_minor": 5
}
