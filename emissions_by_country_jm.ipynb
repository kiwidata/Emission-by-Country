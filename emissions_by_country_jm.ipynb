{
  "nbformat": 4,
  "nbformat_minor": 0,
  "metadata": {
    "colab": {
      "provenance": []
    },
    "kernelspec": {
      "name": "python3",
      "display_name": "Python 3"
    },
    "language_info": {
      "name": "python"
    }
  },
  "cells": [
    {
      "cell_type": "code",
      "execution_count": 1,
      "metadata": {
        "colab": {
          "base_uri": "https://localhost:8080/"
        },
        "id": "q2p8zy_1-lzx",
        "outputId": "330119be-66d1-40e8-b72e-e4933d2a8e53"
      },
      "outputs": [
        {
          "output_type": "stream",
          "name": "stdout",
          "text": [
            "\r0% [Working]\r            \rHit:1 https://cloud.r-project.org/bin/linux/ubuntu focal-cran40/ InRelease\n",
            "\r0% [Connecting to archive.ubuntu.com (185.125.190.39)] [Waiting for headers] [W\r                                                                               \rIgn:2 https://developer.download.nvidia.com/compute/machine-learning/repos/ubuntu2004/x86_64  InRelease\n",
            "\r0% [Connecting to archive.ubuntu.com (185.125.190.39)] [Waiting for headers] [W\r                                                                               \rHit:3 http://security.ubuntu.com/ubuntu focal-security InRelease\n",
            "\r0% [Connecting to archive.ubuntu.com (185.125.190.39)] [Waiting for headers] [C\r                                                                               \rHit:4 https://developer.download.nvidia.com/compute/cuda/repos/ubuntu2004/x86_64  InRelease\n",
            "Hit:5 https://developer.download.nvidia.com/compute/machine-learning/repos/ubuntu2004/x86_64  Release\n",
            "Hit:6 http://ppa.launchpad.net/c2d4u.team/c2d4u4.0+/ubuntu focal InRelease\n",
            "Hit:7 http://archive.ubuntu.com/ubuntu focal InRelease\n",
            "Get:8 http://archive.ubuntu.com/ubuntu focal-updates InRelease [114 kB]\n",
            "Hit:9 http://ppa.launchpad.net/cran/libgit2/ubuntu focal InRelease\n",
            "Hit:10 http://ppa.launchpad.net/deadsnakes/ppa/ubuntu focal InRelease\n",
            "Hit:11 http://ppa.launchpad.net/graphics-drivers/ppa/ubuntu focal InRelease\n",
            "Get:12 http://archive.ubuntu.com/ubuntu focal-backports InRelease [108 kB]\n",
            "Fetched 222 kB in 7s (33.2 kB/s)\n",
            "Reading package lists... Done\n"
          ]
        }
      ],
      "source": [
        "import os\n",
        "# Find the latest version of spark 3.0 from http://www.apache.org/dist/spark/ and enter as the spark version\n",
        "# For example:\n",
        "# spark_version = 'spark-3.0.3'\n",
        "spark_version = 'spark-3.3.1'\n",
        "os.environ['SPARK_VERSION'] = spark_version\n",
        "\n",
        "# Install Spark and Java\n",
        "!apt-get update\n",
        "!apt-get install openjdk-11-jdk-headless -qq > /dev/null\n",
        "!wget -q http://www.apache.org/dist/spark/$SPARK_VERSION/$SPARK_VERSION-bin-hadoop3.tgz\n",
        "!tar xf $SPARK_VERSION-bin-hadoop3.tgz\n",
        "!pip install -q findspark\n",
        "\n",
        "# Set Environment Variables\n",
        "os.environ[\"JAVA_HOME\"] = \"/usr/lib/jvm/java-11-openjdk-amd64\"\n",
        "os.environ[\"SPARK_HOME\"] = f\"/content/{spark_version}-bin-hadoop3\"\n",
        "\n",
        "# Start a SparkSession\n",
        "import findspark\n",
        "findspark.init()"
      ]
    },
    {
      "cell_type": "code",
      "source": [
        "!wget https://jdbc.postgresql.org/download/postgresql-42.2.17.jar"
      ],
      "metadata": {
        "colab": {
          "base_uri": "https://localhost:8080/"
        },
        "id": "XPCOX48n-w-I",
        "outputId": "f7fffe39-1926-4398-810c-e0b02f2d79bd"
      },
      "execution_count": 2,
      "outputs": [
        {
          "output_type": "stream",
          "name": "stdout",
          "text": [
            "--2023-02-02 03:37:47--  https://jdbc.postgresql.org/download/postgresql-42.2.17.jar\n",
            "Resolving jdbc.postgresql.org (jdbc.postgresql.org)... 72.32.157.228, 2001:4800:3e1:1::228\n",
            "Connecting to jdbc.postgresql.org (jdbc.postgresql.org)|72.32.157.228|:443... connected.\n",
            "HTTP request sent, awaiting response... 200 OK\n",
            "Length: 1004734 (981K) [application/java-archive]\n",
            "Saving to: ‘postgresql-42.2.17.jar.2’\n",
            "\n",
            "postgresql-42.2.17. 100%[===================>] 981.19K  4.91MB/s    in 0.2s    \n",
            "\n",
            "2023-02-02 03:37:47 (4.91 MB/s) - ‘postgresql-42.2.17.jar.2’ saved [1004734/1004734]\n",
            "\n"
          ]
        }
      ]
    },
    {
      "cell_type": "code",
      "source": [
        "from pyspark.sql import SparkSession\n",
        "spark = SparkSession.builder.appName(\"CloudETL\").config(\"spark.driver.extraClassPath\",\"/content/postgresql-42.2.17.jar\").getOrCreate()"
      ],
      "metadata": {
        "id": "A58xOAqV_JUg"
      },
      "execution_count": 3,
      "outputs": []
    },
    {
      "cell_type": "code",
      "source": [
        "# Read in data from S3 Buckets\n",
        "from pyspark import SparkFiles\n",
        "url = \"https://s3.amazonaws.com/emissions-by-country-bucket/GCB2022v27_MtCO2_flat.csv\"\n",
        "spark.sparkContext.addFile(url)\n",
        "emissions_df = spark.read.csv(SparkFiles.get(\"GCB2022v27_MtCO2_flat.csv\"), sep=\",\", header=True, inferSchema=True)\n",
        "emissions_df.show()"
      ],
      "metadata": {
        "colab": {
          "base_uri": "https://localhost:8080/"
        },
        "id": "4zobn6ws_Ulv",
        "outputId": "f9a71e1f-f649-4c54-85b2-b21afb23f42f"
      },
      "execution_count": 4,
      "outputs": [
        {
          "output_type": "stream",
          "name": "stdout",
          "text": [
            "+-----------+------------------+----+-----+----+----+----+------+-------+-----+----------+\n",
            "|    Country|ISO 3166-1 alpha-3|Year|Total|Coal| Oil| Gas|Cement|Flaring|Other|Per Capita|\n",
            "+-----------+------------------+----+-----+----+----+----+------+-------+-----+----------+\n",
            "|Afghanistan|               AFG|1750|  0.0|null|null|null|  null|   null| null|      null|\n",
            "|Afghanistan|               AFG|1751|  0.0|null|null|null|  null|   null| null|      null|\n",
            "|Afghanistan|               AFG|1752|  0.0|null|null|null|  null|   null| null|      null|\n",
            "|Afghanistan|               AFG|1753|  0.0|null|null|null|  null|   null| null|      null|\n",
            "|Afghanistan|               AFG|1754|  0.0|null|null|null|  null|   null| null|      null|\n",
            "|Afghanistan|               AFG|1755|  0.0|null|null|null|  null|   null| null|      null|\n",
            "|Afghanistan|               AFG|1756|  0.0|null|null|null|  null|   null| null|      null|\n",
            "|Afghanistan|               AFG|1757|  0.0|null|null|null|  null|   null| null|      null|\n",
            "|Afghanistan|               AFG|1758|  0.0|null|null|null|  null|   null| null|      null|\n",
            "|Afghanistan|               AFG|1759|  0.0|null|null|null|  null|   null| null|      null|\n",
            "|Afghanistan|               AFG|1760|  0.0|null|null|null|  null|   null| null|      null|\n",
            "|Afghanistan|               AFG|1761|  0.0|null|null|null|  null|   null| null|      null|\n",
            "|Afghanistan|               AFG|1762|  0.0|null|null|null|  null|   null| null|      null|\n",
            "|Afghanistan|               AFG|1763|  0.0|null|null|null|  null|   null| null|      null|\n",
            "|Afghanistan|               AFG|1764|  0.0|null|null|null|  null|   null| null|      null|\n",
            "|Afghanistan|               AFG|1765|  0.0|null|null|null|  null|   null| null|      null|\n",
            "|Afghanistan|               AFG|1766|  0.0|null|null|null|  null|   null| null|      null|\n",
            "|Afghanistan|               AFG|1767|  0.0|null|null|null|  null|   null| null|      null|\n",
            "|Afghanistan|               AFG|1768|  0.0|null|null|null|  null|   null| null|      null|\n",
            "|Afghanistan|               AFG|1769|  0.0|null|null|null|  null|   null| null|      null|\n",
            "+-----------+------------------+----+-----+----+----+----+------+-------+-----+----------+\n",
            "only showing top 20 rows\n",
            "\n"
          ]
        }
      ]
    },
    {
      "cell_type": "code",
      "source": [
        "# Read in data from S3 Buckets\n",
        "from pyspark import SparkFiles\n",
        "url = \"https://emissions-by-country-bucket.s3.amazonaws.com/emission%25type.csv\"\n",
        "spark.sparkContext.addFile(url)\n",
        "percentages_df = spark.read.csv(SparkFiles.get(\"emission%type.csv\"), sep=\",\", header=True, inferSchema=True)\n",
        "percentages_df.show()"
      ],
      "metadata": {
        "colab": {
          "base_uri": "https://localhost:8080/"
        },
        "id": "rACl0DdH_vcg",
        "outputId": "05675852-65bf-47f4-a5d2-f09e56d02a78"
      },
      "execution_count": 5,
      "outputs": [
        {
          "output_type": "stream",
          "name": "stdout",
          "text": [
            "+-------+----+---------------+--------------+--------------+-----------------+------------------+----------------+\n",
            "|Country|Year|Percentage_Coal|Percentage_Oil|Percentage_Gas|Percentage_Cement|Percentage_Flaring|Percentage_Other|\n",
            "+-------+----+---------------+--------------+--------------+-----------------+------------------+----------------+\n",
            "| Global|2021|    40.35033527|   31.88559108|   21.33892201|      4.505438838|       1.121989123|     0.797723682|\n",
            "| Global|2019|    39.71133178|   33.29234475|   20.62297865|      4.361907136|       1.184529879|     0.826907801|\n",
            "| Global|2018|    40.04406622|   33.30757494|   20.44681258|      4.261111186|       1.119073689|     0.821361389|\n",
            "| Global|2017|    40.18915308|   33.91616024|   19.79383255|      4.177449862|       1.085948991|     0.837455275|\n",
            "| Global|2014|    42.30622741|   32.82628271|    18.7043746|      4.215897146|        1.09030013|     0.856917999|\n",
            "| Global|2015|    41.36861869|   33.54934462|   19.08984157|      4.062131973|       1.078597202|     0.851465943|\n",
            "| Global|2016|    40.42485964|   33.84688628|   19.63070336|      4.187616006|       1.065147785|     0.844786918|\n",
            "| Global|2013|    42.53914397|   32.91820151|   18.52399477|      4.088671251|       1.097237104|     0.832751394|\n",
            "| Global|2020|    40.19546719|   31.73712948|   21.42772207|      4.643640968|       1.155803885|     0.840236402|\n",
            "| Global|2012|    42.62882173|   32.97040198|   18.56979971|      3.955207646|       1.086523115|     0.789245815|\n",
            "| Global|2011|    42.73239432|   33.02137522|   18.46173937|       3.91393584|       1.073679161|     0.796876091|\n",
            "| Global|2010|    41.74102713|   34.04797011|     18.568755|      3.761134929|       1.143887176|     0.737225667|\n",
            "| Global|2008|    41.11719735|   35.06632948|   18.27688446|      3.564620696|        1.16585447|     0.809113533|\n",
            "| Global|2009|    41.23816798|   34.84012794|   18.22312893|        3.7249033|       1.202007208|      0.77166465|\n",
            "| Global|2007|     40.5511338|   35.81344094|   18.07272004|      3.584590562|       1.155259972|     0.822854682|\n",
            "| Global|2006|    39.84177343|   36.76095387|   18.00015748|      3.437599148|       1.133784911|     0.825731153|\n",
            "| Global|2005|     38.9785241|   37.61454934|   18.16896096|      3.256184543|       1.165284028|     0.816497037|\n",
            "| Global|2004|    37.96382341|   38.56068104|   18.35822901|      3.179718602|        1.13072596|      0.80682197|\n",
            "| Global|2003|    38.03926352|   38.62219842|   18.37676215|      3.082110266|       1.082669912|      0.79699573|\n",
            "| Global|2002|     36.8286798|   39.51847104|   18.66689489|      3.028999445|       1.136004754|     0.820950072|\n",
            "+-------+----+---------------+--------------+--------------+-----------------+------------------+----------------+\n",
            "only showing top 20 rows\n",
            "\n"
          ]
        }
      ]
    },
    {
      "cell_type": "code",
      "source": [
        "from pyspark.sql.functions import col\n",
        "\n",
        "# Rename column\n",
        "emissions_df2 = emissions_df.withColumnRenamed(\"ISO 3166-1 alpha-3\",\"alpha3\") \\\n",
        "              .withColumnRenamed(\"Year\",\"year_\") \\\n",
        "              .withColumnRenamed(\"Total\",\"total\") \\\n",
        "              .withColumnRenamed(\"Coal\",\"coal\") \\\n",
        "              .withColumnRenamed(\"Oil\",\"oil\") \\\n",
        "              .withColumnRenamed(\"Gas\",\"gas\") \\\n",
        "              .withColumnRenamed(\"Cement\",\"cement\") \\\n",
        "              .withColumnRenamed(\"Flaring\",\"flaring\") \\\n",
        "              .withColumnRenamed(\"Other\",\"other\") \\\n",
        "              .withColumnRenamed(\"Per Capita\",\"per_capita\")\n",
        "emissions_df2.printSchema()"
      ],
      "metadata": {
        "colab": {
          "base_uri": "https://localhost:8080/"
        },
        "id": "ju4Yl-qPPl5R",
        "outputId": "14dd753c-8446-4f14-c637-414f7e4da19f"
      },
      "execution_count": 32,
      "outputs": [
        {
          "output_type": "stream",
          "name": "stdout",
          "text": [
            "root\n",
            " |-- Country: string (nullable = true)\n",
            " |-- alpha3: string (nullable = true)\n",
            " |-- year_: integer (nullable = true)\n",
            " |-- total: double (nullable = true)\n",
            " |-- coal: double (nullable = true)\n",
            " |-- oil: double (nullable = true)\n",
            " |-- gas: double (nullable = true)\n",
            " |-- cement: double (nullable = true)\n",
            " |-- flaring: double (nullable = true)\n",
            " |-- other: double (nullable = true)\n",
            " |-- per_capita: double (nullable = true)\n",
            "\n"
          ]
        }
      ]
    },
    {
      "cell_type": "code",
      "source": [
        "# Rename columns\n",
        "percentages_df2 = percentages_df.withColumnRenamed(\"Year\",\"year_\") \\\n",
        "              .withColumnRenamed(\"Percentage_Coal\",\"percentage_coal\") \\\n",
        "              .withColumnRenamed(\"Coal\",\"coal\") \\\n",
        "              .withColumnRenamed(\"Percentage_Oil\",\"percentage_oil\") \\\n",
        "              .withColumnRenamed(\"Percentage_Gas\",\"percentage_gas\") \\\n",
        "              .withColumnRenamed(\"Percentage_Cement\",\"percentage_cement\") \\\n",
        "              .withColumnRenamed(\"Percentage_Flaring\",\"percentage_flaring\") \\\n",
        "              .withColumnRenamed(\"Percentage_Other\",\"percentage_other\")\n",
        "percentages_df2.printSchema()"
      ],
      "metadata": {
        "colab": {
          "base_uri": "https://localhost:8080/"
        },
        "id": "1l0MdgtlYm7a",
        "outputId": "5812599d-f33f-4a94-b6d7-cc00e43d96a2"
      },
      "execution_count": 41,
      "outputs": [
        {
          "output_type": "stream",
          "name": "stdout",
          "text": [
            "root\n",
            " |-- Country: string (nullable = true)\n",
            " |-- year_: integer (nullable = true)\n",
            " |-- percentage_coal: double (nullable = true)\n",
            " |-- percentage_oil: double (nullable = true)\n",
            " |-- percentage_gas: double (nullable = true)\n",
            " |-- percentage_cement: double (nullable = true)\n",
            " |-- percentage_flaring: double (nullable = true)\n",
            " |-- percentage_other: double (nullable = true)\n",
            "\n"
          ]
        }
      ]
    },
    {
      "cell_type": "code",
      "source": [
        "# Join tables \n",
        "joined_df = emissions_df2.join(percentages_df2,[\"Country\",\"year_\"]) \n",
        "joined_df.show()\n"
      ],
      "metadata": {
        "colab": {
          "base_uri": "https://localhost:8080/"
        },
        "id": "pGfoqFvgPmx0",
        "outputId": "9aabea11-f7ab-4629-bcde-16652ea6d782"
      },
      "execution_count": 49,
      "outputs": [
        {
          "output_type": "stream",
          "name": "stdout",
          "text": [
            "+-----------+-----+------+-----+----+----+----+------+-------+-----+----------+---------------+--------------+--------------+-----------------+------------------+----------------+\n",
            "|    Country|year_|alpha3|total|coal| oil| gas|cement|flaring|other|per_capita|percentage_coal|percentage_oil|percentage_gas|percentage_cement|percentage_flaring|percentage_other|\n",
            "+-----------+-----+------+-----+----+----+----+------+-------+-----+----------+---------------+--------------+--------------+-----------------+------------------+----------------+\n",
            "|Afghanistan| 1750|   AFG|  0.0|null|null|null|  null|   null| null|      null|           null|          null|          null|             null|              null|            null|\n",
            "|Afghanistan| 1751|   AFG|  0.0|null|null|null|  null|   null| null|      null|           null|          null|          null|             null|              null|            null|\n",
            "|Afghanistan| 1752|   AFG|  0.0|null|null|null|  null|   null| null|      null|           null|          null|          null|             null|              null|            null|\n",
            "|Afghanistan| 1753|   AFG|  0.0|null|null|null|  null|   null| null|      null|           null|          null|          null|             null|              null|            null|\n",
            "|Afghanistan| 1754|   AFG|  0.0|null|null|null|  null|   null| null|      null|           null|          null|          null|             null|              null|            null|\n",
            "|Afghanistan| 1755|   AFG|  0.0|null|null|null|  null|   null| null|      null|           null|          null|          null|             null|              null|            null|\n",
            "|Afghanistan| 1756|   AFG|  0.0|null|null|null|  null|   null| null|      null|           null|          null|          null|             null|              null|            null|\n",
            "|Afghanistan| 1757|   AFG|  0.0|null|null|null|  null|   null| null|      null|           null|          null|          null|             null|              null|            null|\n",
            "|Afghanistan| 1758|   AFG|  0.0|null|null|null|  null|   null| null|      null|           null|          null|          null|             null|              null|            null|\n",
            "|Afghanistan| 1759|   AFG|  0.0|null|null|null|  null|   null| null|      null|           null|          null|          null|             null|              null|            null|\n",
            "|Afghanistan| 1760|   AFG|  0.0|null|null|null|  null|   null| null|      null|           null|          null|          null|             null|              null|            null|\n",
            "|Afghanistan| 1761|   AFG|  0.0|null|null|null|  null|   null| null|      null|           null|          null|          null|             null|              null|            null|\n",
            "|Afghanistan| 1762|   AFG|  0.0|null|null|null|  null|   null| null|      null|           null|          null|          null|             null|              null|            null|\n",
            "|Afghanistan| 1763|   AFG|  0.0|null|null|null|  null|   null| null|      null|           null|          null|          null|             null|              null|            null|\n",
            "|Afghanistan| 1764|   AFG|  0.0|null|null|null|  null|   null| null|      null|           null|          null|          null|             null|              null|            null|\n",
            "|Afghanistan| 1765|   AFG|  0.0|null|null|null|  null|   null| null|      null|           null|          null|          null|             null|              null|            null|\n",
            "|Afghanistan| 1766|   AFG|  0.0|null|null|null|  null|   null| null|      null|           null|          null|          null|             null|              null|            null|\n",
            "|Afghanistan| 1767|   AFG|  0.0|null|null|null|  null|   null| null|      null|           null|          null|          null|             null|              null|            null|\n",
            "|Afghanistan| 1768|   AFG|  0.0|null|null|null|  null|   null| null|      null|           null|          null|          null|             null|              null|            null|\n",
            "|Afghanistan| 1769|   AFG|  0.0|null|null|null|  null|   null| null|      null|           null|          null|          null|             null|              null|            null|\n",
            "+-----------+-----+------+-----+----+----+----+------+-------+-----+----------+---------------+--------------+--------------+-----------------+------------------+----------------+\n",
            "only showing top 20 rows\n",
            "\n"
          ]
        }
      ]
    },
    {
      "cell_type": "code",
      "source": [
        "# Store environmental variable\n",
        "from getpass import getpass\n",
        "password = getpass('Enter database password')\n",
        "# Configure settings for RDS\n",
        "mode = \"append\"\n",
        "jdbc_url=\"jdbc:postgresql://emissions-by-country.cqrhpsosfvfb.us-east-1.rds.amazonaws.com:5432/postgres\"\n",
        "config = {\"user\":\"postgres\",\n",
        "          \"password\": password,\n",
        "          \"driver\":\"org.postgresql.Driver\"}"
      ],
      "metadata": {
        "colab": {
          "base_uri": "https://localhost:8080/"
        },
        "id": "HUeCUqzYPnRF",
        "outputId": "9cb5575b-eb97-42cb-eace-ab1b1d935e32"
      },
      "execution_count": 30,
      "outputs": [
        {
          "name": "stdout",
          "output_type": "stream",
          "text": [
            "Enter database password··········\n"
          ]
        }
      ]
    },
    {
      "cell_type": "code",
      "source": [
        "# Write DataFrame to emissions table in RDS\n",
        "emissions_df2.write.jdbc(url=jdbc_url, table='emissions', mode=mode, properties=config)"
      ],
      "metadata": {
        "id": "dUMBLb4tO16e"
      },
      "execution_count": 34,
      "outputs": []
    },
    {
      "cell_type": "code",
      "source": [
        "# Write DataFrame to percentages table in RDS\n",
        "percentages_df2.write.jdbc(url=jdbc_url, table='percentages', mode=mode, properties=config)"
      ],
      "metadata": {
        "id": "Nof8KJmHXzYk"
      },
      "execution_count": 43,
      "outputs": []
    },
    {
      "cell_type": "code",
      "source": [
        "# Write DataFrame to joined table in RDS\n",
        "joined_df.write.jdbc(url=jdbc_url, table='joined', mode=mode, properties=config)"
      ],
      "metadata": {
        "id": "E0ZbIM-kX1CD"
      },
      "execution_count": 50,
      "outputs": []
    },
    {
      "cell_type": "code",
      "source": [],
      "metadata": {
        "id": "fpX0dTjLbpar"
      },
      "execution_count": null,
      "outputs": []
    }
  ]
}